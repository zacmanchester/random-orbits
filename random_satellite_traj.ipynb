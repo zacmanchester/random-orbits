{
 "cells": [
  {
   "cell_type": "code",
   "execution_count": 1,
   "id": "463f630e-85dc-4542-bbb0-7e306d5c9c2a",
   "metadata": {},
   "outputs": [],
   "source": [
    "using LinearAlgebra"
   ]
  },
  {
   "cell_type": "code",
   "execution_count": 2,
   "id": "66be3ffe-dc9f-490c-bf37-272208defb0c",
   "metadata": {},
   "outputs": [],
   "source": [
    "struct OrbitalElements\n",
    "    # Semi-major axis\n",
    "    a::Number\n",
    "    # Eccentricity\n",
    "    e::Number\n",
    "    # Inclination\n",
    "    i::Number\n",
    "    # Right Ascension of Ascending Node\n",
    "    Ω::Number\n",
    "    # Argument of Periapsis\n",
    "    ω::Number\n",
    "    # True Anomaly\n",
    "    ν::Number\n",
    "end"
   ]
  },
  {
   "cell_type": "code",
   "execution_count": 17,
   "id": "497bf477-bd68-4281-8a97-3b200d7ed408",
   "metadata": {},
   "outputs": [
    {
     "data": {
      "text/plain": [
       "eci2oe (generic function with 2 methods)"
      ]
     },
     "execution_count": 17,
     "metadata": {},
     "output_type": "execute_result"
    }
   ],
   "source": [
    "function oe2eci(oe::OrbitalElements, μ=398600.4418)\n",
    "    \n",
    "    P = oe.a*(1-oe.e^2);                # Semi-Latus Rectum\n",
    "    r_mag = P/(1+oe.e*cos(oe.ν));       # Distance from Earth to orbiting body\n",
    "\n",
    "    n = sqrt(μ/oe.a^3)\n",
    "    E = anom2E(oe.ν,oe.e)\n",
    "    # R in perifocial coordinates [P Q W]'\n",
    "    # r_peri = [r_mag*cos(oe.ν); r_mag*sin(oe.ν); 0];\n",
    "    # v_peri = sqrt(μ/P)*[-sin(oe.ν); (oe.e+cos(oe.ν)); 0];\n",
    "    r_peri = [oe.a*(cos(E) - oe.e); oe.a*sqrt(1 - oe.e^2)*sin(E);0];\n",
    "    v_periComp = [-sin(E);sqrt(1 - oe.e^2)*cos(E);0];\n",
    "    v_peri = (oe.a*n)/(1 - oe.e*cos(E))*v_periComp;\n",
    "    if oe.i == 0 && oe.e != 0         # Equitorial and Elliptical\n",
    "        R1 = 1;\n",
    "        R2 = 1;\n",
    "        R3 = rotz(oe.ω);\n",
    "    elseif oe.e == 0 && oe.i != 0     # Circular and Inclined\n",
    "        R1 = rotz(oe.Ω);\n",
    "        R2 = rotx(oe.i);\n",
    "        R3 = 1;\n",
    "    elseif oe.i == 0 && oe.e == 0     # Equitorial and Circular\n",
    "        R1 = 1;\n",
    "        R2 = 1;\n",
    "        R3 = 1;\n",
    "    else                              # Not Circular or Inclined\n",
    "        R1 = rotz(oe.Ω);\n",
    "        R2 = rotx(oe.i);\n",
    "        R3 = rotz(oe.ω);\n",
    "    end\n",
    "    R = R1*R2*R3;                     # Full rotation matrix\n",
    "    r_eci = R*r_peri;\n",
    "    v_eci = R*v_peri;\n",
    "    return [r_eci; v_eci]\n",
    "end\n",
    "\n",
    "function anom2E(ν,e)\n",
    "    E = acos((e + cos(ν))/(1 + e*cos(ν)));\n",
    "    if ν > π\n",
    "        E = 2π - E;\n",
    "    end\n",
    "    return E\n",
    "end\n",
    "\n",
    "function rotz(γ)\n",
    "    rotmat = [cos(γ) -sin(γ) 0; sin(γ) cos(γ) 0; 0 0 1];\n",
    "    return rotmat\n",
    "end\n",
    "\n",
    "function rotx(α)\n",
    "    rotmat = [1 0 0;0 cos(α) -sin(α); 0 sin(α) cos(α)];\n",
    "    return rotmat\n",
    "end\n",
    "\n",
    "function  eci2oe(x, μ=398600.4418)\n",
    "\n",
    "    R = x[1:3]\n",
    "    V = x[4:6]\n",
    "    \n",
    "    r = norm(R)\n",
    "    v = norm(V)\n",
    "\n",
    "    H = cross(R,V)\n",
    "    h = norm(H)\n",
    "\n",
    "    N = cross([0;0;1],H)\n",
    "    n = norm(N)\n",
    "    e_vec = 1/μ*((v^2-μ/r).*R-dot(R,V).*V)\n",
    "    e = norm(e_vec)\n",
    "\n",
    "    # Mechanical Energy to determine size\n",
    "    ϵ = 0.5*v^2 - μ/r\n",
    "    if e != 1\n",
    "        a = -μ/(2*ϵ)\n",
    "    else\n",
    "        a = inf # Semi-major axis undefined for parabolas\n",
    "    end\n",
    "\n",
    "    # Orbital Inclination (always less than 180 deg)\n",
    "    i = acos(H[3]/h)\n",
    "\n",
    "    # Rignt Ascension of Ascending Node\n",
    "    Ω = acos(N[1]/n)\n",
    "    if N[2] < 0             # If Nⱼ is greater than 0 Om is less than 180\n",
    "        Ω = 2π- Ω\n",
    "    end\n",
    "\n",
    "    # Argument of periapsis\n",
    "    term = dot(N,e_vec)/(n*e)\n",
    "    ϵ = 1e-10\n",
    "    if abs(term) > 1 # checking precision of values\n",
    "        if abs(term)-1 < ϵ\n",
    "            if term < 0 term = -1 else term = 1 end\n",
    "        end\n",
    "    end\n",
    "    ω = acos(term)\n",
    "    if e_vec[3] < 0         # If e(k) is greater than 0 w is less than 180\n",
    "        ω = 2π - ω;\n",
    "    end\n",
    "\n",
    "    # True anomaly\n",
    "    term = dot(e_vec,R)/(e*r)\n",
    "    ϵ = 1e-10\n",
    "    if abs(term) > 1\n",
    "        if abs(term)-1 < ϵ\n",
    "            if term < 0 term = -1 else term = 1 end\n",
    "        end\n",
    "    end\n",
    "\n",
    "    ν = acos(term);\n",
    "    if dot(R,V) < 0         # If R dot V is greater than zero nu is less than 180\n",
    "        ν = 2π - ν;\n",
    "    end\n",
    "\n",
    "    # Special Cases, use different angles\n",
    "    if i == 0 && e != 0 # Elliptical equatorial\n",
    "        # Provide the longitude of periapsis (PI = Om + w)\n",
    "        ang = acos(e_vec[1]/e)\n",
    "        if e_vec[2] < 0\n",
    "            ang = 2π - ang;\n",
    "        end\n",
    "    elseif i != 0 && e == 0 # Circular inclined\n",
    "        # Provide the argument of latitude (u = w + anom)\n",
    "        ang = acos(dot(N,R)/(n*r))\n",
    "        if r_eci[3] < 0\n",
    "            ang = 2π - ang;\n",
    "        end\n",
    "    elseif i == 0 && e == 0 # Circular equatorial\n",
    "        # Provide the true latitude (lambda = Om + w + anom)\n",
    "        ang = acos(R[1]/r)\n",
    "        if R[2] < 0\n",
    "            ang = 2π - ang;\n",
    "        end\n",
    "    else\n",
    "        # Default output for ang\n",
    "        ang = NaN;\n",
    "    end\n",
    "\n",
    "    oe = OrbitalElements(a,e,i,Ω,ω,ν)\n",
    "    return oe, ang\n",
    "end\n"
   ]
  },
  {
   "cell_type": "code",
   "execution_count": 92,
   "id": "f07aeea2-3bcf-4c58-8eb1-c52e7d1dea4e",
   "metadata": {},
   "outputs": [
    {
     "data": {
      "text/plain": [
       "orbit_step (generic function with 1 method)"
      ]
     },
     "execution_count": 92,
     "metadata": {},
     "output_type": "execute_result"
    }
   ],
   "source": [
    "function orbit_dynamics(x_orbit, μ=398600.4418, J2=1.75553e10)\n",
    "    r = x_orbit[1:3]\n",
    "    v = x_orbit[4:6]\n",
    "    \n",
    "    v̇ = -(μ/(norm(r)^3))*r + (J2/(norm(r)^7))*(r.*([6 -1.5 -1.5; 6 -1.5 -1.5; 3 -4.5 -4.5]*(r.*r)))\n",
    "    \n",
    "    return [v; v̇]\n",
    "end\n",
    "\n",
    "function orbit_step(xk, h)\n",
    "    #Take a single RK4 step on the orbit dynamics\n",
    "    \n",
    "    f1 = orbit_dynamics(xk)\n",
    "    f2 = orbit_dynamics(xk+0.5*h*f1)\n",
    "    f3 = orbit_dynamics(xk+0.5*h*f2)\n",
    "    f4 = orbit_dynamics(xk+h*f3)\n",
    "    \n",
    "    xn = xk + (h/6.0)*(f1 + 2*f2 + 2*f3 + f4)\n",
    "end"
   ]
  },
  {
   "cell_type": "code",
   "execution_count": 93,
   "id": "78a42668-1337-4733-99e6-21562ae572ec",
   "metadata": {},
   "outputs": [
    {
     "data": {
      "text/plain": [
       "6-element Vector{Float64}:\n",
       " -633.7775593755478\n",
       "   93.90509949866751\n",
       " 6962.51991219077\n",
       "    5.506670888038511\n",
       "   -5.142041084950558\n",
       "    0.6354538340792777"
      ]
     },
     "execution_count": 93,
     "metadata": {},
     "output_type": "execute_result"
    }
   ],
   "source": [
    "#Random initial conditions\n",
    "\n",
    "#Polar Orbit\n",
    "oe_polar = OrbitalElements(600.0+6378.0+(100*rand()-50), 0.0+0.01*rand(), (pi/2)+(0.2*rand()-0.1), 2*pi*rand(), 2*pi*rand(), 2*pi*rand());\n",
    "\n",
    "#ISS~ish Orbit\n",
    "#eo_iss = OrbitalElements(420.0+6378.0+(100*rand()-50) ,0.00034+0.01*rand(), (51.5*pi/180)+(0.2*rand()-0.1), 2*pi*rand(), 2*pi*rand(), 2*pi*rand());\n",
    "\n",
    "x0_orbit = oe2eci(oe_polar)"
   ]
  },
  {
   "cell_type": "code",
   "execution_count": 99,
   "id": "2bea89d6-c2ed-4fc8-9375-7c1f89bbc181",
   "metadata": {},
   "outputs": [],
   "source": [
    "#simulate for 3 hours (~2 orbits)\n",
    "tf = 3*60*60\n",
    "tsamp = 0:tf\n",
    "\n",
    "xtraj_orbit = zeros(6, length(tsamp))\n",
    "xtraj_orbit[:,1] .= x0_orbit\n",
    "\n",
    "for k = 1:(length(tsamp)-1)\n",
    "    xtraj_orbit[:,k+1] .= orbit_step(xtraj_orbit[:,k], 1.0)\n",
    "end"
   ]
  },
  {
   "cell_type": "code",
   "execution_count": 82,
   "id": "8957dd31-fcc3-4074-ac95-3256b282c765",
   "metadata": {},
   "outputs": [
    {
     "data": {
      "text/plain": [
       "3×3 Diagonal{Float64, Vector{Float64}}:\n",
       " 0.0418667   ⋅          ⋅ \n",
       "  ⋅         0.0418667   ⋅ \n",
       "  ⋅          ⋅         0.00666667"
      ]
     },
     "execution_count": 82,
     "metadata": {},
     "output_type": "execute_result"
    }
   ],
   "source": [
    "#3U CubeSat Inertia (MKS units)\n",
    "m = 4.0;\n",
    "J = Diagonal([(m/12)*(.1^2+.34^2); (m/12)*(.1^2+.34^2); (m/12)*(.1^2+.1^2)])"
   ]
  },
  {
   "cell_type": "code",
   "execution_count": 83,
   "id": "8f32c000-6ecd-4f41-8e6d-53168d8a9337",
   "metadata": {},
   "outputs": [
    {
     "data": {
      "text/plain": [
       "qtorp (generic function with 1 method)"
      ]
     },
     "execution_count": 83,
     "metadata": {},
     "output_type": "execute_result"
    }
   ],
   "source": [
    "#Quaternion stuff\n",
    "function hat(v)\n",
    "    return [0 -v[3] v[2];\n",
    "            v[3] 0 -v[1];\n",
    "            -v[2] v[1] 0]\n",
    "end\n",
    "function L(q)\n",
    "    s = q[1]\n",
    "    v = q[2:4]\n",
    "    L = [s    -v';\n",
    "         v  s*I+hat(v)]\n",
    "    return L\n",
    "end\n",
    "T = Diagonal([1; -ones(3)])\n",
    "H = [zeros(1,3); I]\n",
    "function qtoQ(q)\n",
    "    return H'*T*L(q)*T*L(q)*H\n",
    "end\n",
    "function G(q)\n",
    "    G = L(q)*H\n",
    "end\n",
    "function rptoq(ϕ)\n",
    "    (1/sqrt(1+ϕ'*ϕ))*[1; ϕ]\n",
    "end\n",
    "function qtorp(q)\n",
    "    q[2:4]/q[1]\n",
    "end"
   ]
  },
  {
   "cell_type": "code",
   "execution_count": 88,
   "id": "06712b3d-54ef-449b-8c2d-cbd7c42cf03d",
   "metadata": {},
   "outputs": [
    {
     "data": {
      "text/plain": [
       "attitude_step (generic function with 1 method)"
      ]
     },
     "execution_count": 88,
     "metadata": {},
     "output_type": "execute_result"
    }
   ],
   "source": [
    "function attitude_dynamics(x_attitude, J = Diagonal((1/3)*[(.1^2+.34^2); (.1^2+.34^2); (.1^2+.1^2)]))\n",
    "    q = x_attitude[1:4]\n",
    "    q = q/norm(q)\n",
    "    ω = x_attitude[5:7]\n",
    "    \n",
    "    q̇ = 0.5*G(q)*ω\n",
    "    ω̇ = -J\\(hat(ω)*J*ω)\n",
    "    return [q̇; ω̇]\n",
    "end\n",
    "\n",
    "function attitude_step(xk, h)\n",
    "    #Take a single RK4 step on the attitude dynamics\n",
    "    \n",
    "    f1 = attitude_dynamics(xk)\n",
    "    f2 = attitude_dynamics(xk+0.5*h*f1)\n",
    "    f3 = attitude_dynamics(xk+0.5*h*f2)\n",
    "    f4 = attitude_dynamics(xk+h*f3)\n",
    "    \n",
    "    xn = xk + (h/6.0)*(f1 + 2*f2 + 2*f3 + f4)\n",
    "    xn[1:4] .= xn[1:4]/norm(xn[1:4]) #re-normalize quaternion\n",
    "    \n",
    "    return xn\n",
    "end"
   ]
  },
  {
   "cell_type": "code",
   "execution_count": 106,
   "id": "8adb4e2c-2969-4821-8dc8-37e06ac1e238",
   "metadata": {},
   "outputs": [
    {
     "data": {
      "text/plain": [
       "7-element Vector{Float64}:\n",
       "  0.6201300490094851\n",
       " -0.6651181714159383\n",
       " -0.08160004816323776\n",
       "  0.4079190759299808\n",
       "  0.03774951918700896\n",
       " -0.012949366079465023\n",
       "  0.02256746626502909"
      ]
     },
     "execution_count": 106,
     "metadata": {},
     "output_type": "execute_result"
    }
   ],
   "source": [
    "#Random initial conditions\n",
    "q0 = randn(4)\n",
    "q0 = q0/norm(q0)\n",
    "ω0 = 2*(pi/180)*randn(3)\n",
    "x0_attitude = [q0; ω0]"
   ]
  },
  {
   "cell_type": "code",
   "execution_count": 108,
   "id": "5b52669f-e8a1-4bc3-9666-6260ccdb8dc1",
   "metadata": {},
   "outputs": [],
   "source": [
    "#simulate\n",
    "\n",
    "xtraj_attitude = zeros(7, length(tsamp))\n",
    "xtraj_attitude[:,1] .= x0_attitude\n",
    "\n",
    "for k = 1:(length(tsamp)-1)\n",
    "    xtraj_attitude[:,k+1] .= attitude_step(xtraj_attitude[:,k], 1.0)\n",
    "end"
   ]
  },
  {
   "cell_type": "code",
   "execution_count": null,
   "id": "9cff773a-3a57-48c2-9a1b-d67103329427",
   "metadata": {},
   "outputs": [],
   "source": []
  }
 ],
 "metadata": {
  "kernelspec": {
   "display_name": "Julia 1.9.2",
   "language": "julia",
   "name": "julia-1.9"
  },
  "language_info": {
   "file_extension": ".jl",
   "mimetype": "application/julia",
   "name": "julia",
   "version": "1.9.2"
  }
 },
 "nbformat": 4,
 "nbformat_minor": 5
}
